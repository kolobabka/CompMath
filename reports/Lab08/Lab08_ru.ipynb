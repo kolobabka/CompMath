{
 "cells": [
  {
   "attachments": {},
   "cell_type": "markdown",
   "id": "b710e423",
   "metadata": {},
   "source": [
    "# Лабораторная работа №8\n",
    "##  Метод прогонки.\n",
    "---  \n",
    "### Цель: Исследовать решение стационарного одномерного уравнения теплопроводности, используя метода прогонки\n",
    "---\n",
    "#### Для исследования выберем Лаб раб 4, Вариант 3, Задание №7:  \n",
    "\n",
    "$$\n",
    "\\begin{cases}\n",
    "u(0) = 0; ~~~ u(1) = 1; ~~~ x_0 = \\frac{1}{\\sqrt{2}}, \\\\\n",
    "k(x) = e^{\\sin(x)}; ~~~ q(x) = 2; ~~~ f(x) = e^{x}, ~~~ x < x_0, \\\\\n",
    "k(x) = 1; ~~~ q(x) = 1; ~~~ f(x) = e^{x}, ~~~ x > x_0, \\\\ \n",
    "\\end{cases}\n",
    "$$\n",
    "\n",
    "Модельная задача:\n",
    "\n",
    "$$\n",
    "k(x) = k(x_0); ~~~ q(x) = q(x_0); ~~~ f(x) = f(x_0);\n",
    "$$\n",
    "\n",
    "---"
   ]
  },
  {
   "cell_type": "markdown",
   "id": "316a93f3",
   "metadata": {},
   "source": [
    "#### Испорт модулей:"
   ]
  },
  {
   "cell_type": "code",
   "execution_count": 1,
   "id": "b9a16de4",
   "metadata": {},
   "outputs": [],
   "source": [
    "#!/bin/python \n",
    "import math\n",
    "import numpy as np\n",
    "from matplotlib import pyplot as plt"
   ]
  },
  {
   "cell_type": "markdown",
   "id": "85574f62",
   "metadata": {},
   "source": [
    "#### Объявление функций: "
   ]
  },
  {
   "cell_type": "code",
   "execution_count": 2,
   "id": "4b6fba5f",
   "metadata": {},
   "outputs": [],
   "source": [
    "\n",
    "num_iters = 10000\n",
    "x_0 = 1 / math.sqrt(2)\n",
    "\n",
    "def k(x):\n",
    "    if (x < x_0):\n",
    "        return math.exp(math.sin(x))\n",
    "    return 1\n",
    "\n",
    "def q(x):\n",
    "    if (x < x_0):\n",
    "       return 2\n",
    "    return 1\n",
    "\n",
    "def f(x):\n",
    "    return math.exp(x)\n",
    "\n",
    "class LinearEq:\n",
    "  def __init__(self, coeff_1, coeff_2, coeff_3, rhs):\n",
    "    self.coeff_1 = coeff_1\n",
    "    self.coeff_2 = coeff_2\n",
    "    self.coeff_3 = coeff_3\n",
    "    self.rhs = rhs\n",
    "\n",
    "def create_linear_system(num, step):\n",
    "    eqs = []\n",
    "    for i in range(num + 1):\n",
    "        var = step * i\n",
    "        step_mul_step = step * step\n",
    "        coeff_1 = k(var + step / 2) / (step_mul_step)\n",
    "        coeff_2 = ((-k(var + step / 2) - k(var - step / 2)) / (step_mul_step)) - q(var)\n",
    "        coeff_3 = k(var - step / 2) / (step_mul_step)\n",
    "        rhs = -f(var)\n",
    "        eqs.append(LinearEq(coeff_1, coeff_2, coeff_3, rhs))\n",
    "    return eqs\n",
    "\n",
    "class Deps:\n",
    "  def __init__(self, l, alpha, beta):\n",
    "    self.l = l\n",
    "    self.alpha = alpha\n",
    "    self.beta = beta\n",
    "\n",
    "def forward(eqs):\n",
    "    deps = []\n",
    "    deps.append(Deps(0, 0, 0))\n",
    "\n",
    "    for i in range(1, num_iters):        \n",
    "        coeff_1 = eqs[i].coeff_1\n",
    "        coeff_2 = eqs[i].coeff_2\n",
    "        coeff_3 = eqs[i].coeff_3 \n",
    "        rhs = eqs[i].rhs\n",
    "        alpha = - coeff_1 / (coeff_2 + coeff_3 * deps[-1].alpha)\n",
    "        deps.append(Deps(i, alpha, (rhs - coeff_3 * deps[-1].beta) / (coeff_2 + coeff_3 * deps[-1].beta)))\n",
    "    return deps\n",
    "\n",
    "def backward(num, deps):\n",
    "    vals = np.empty(num + 1)\n",
    "    vals[0] = 0.0\n",
    "    vals[num_iters] = 1.0\n",
    "    for i in range(num_iters - 1, -1, -1):\n",
    "        vals[i] = deps[i].beta + deps[i].alpha * vals[i + 1]\n",
    "    return vals"
   ]
  },
  {
   "cell_type": "markdown",
   "id": "6013047a",
   "metadata": {},
   "source": [
    "#### Основная часть"
   ]
  },
  {
   "cell_type": "code",
   "execution_count": 3,
   "id": "bd4a31dd",
   "metadata": {},
   "outputs": [
    {
     "name": "stdout",
     "output_type": "stream",
     "text": [
      "determine a step value: \n",
      "\tstep : 9.999000099990002e-05\n",
      "----------------------------------\n",
      "Transform differential equation to linear system\n",
      "----------------------------------\n",
      "calculating alpha and beta coeffs to start tridiagonal method...\n",
      "----------------------------------\n",
      "getting final values...\n",
      "----------------------------------\n"
     ]
    },
    {
     "data": {
      "image/png": "[encoded data removed]",
      "text/plain": [
       "<Figure size 1200x500 with 1 Axes>"
      ]
     },
     "metadata": {},
     "output_type": "display_data"
    }
   ],
   "source": [
    "\n",
    "def main():\n",
    "    print('determine a step value: ')\n",
    "    step = (1 - 0) / (num_iters + 1)\n",
    "    print('\\tstep : ' + str(step))\n",
    "\n",
    "    print(\"----------------------------------\")\n",
    "\n",
    "    print(\"Transform differential equation to linear system\")\n",
    "    eqs = create_linear_system(num_iters, step)\n",
    "    \n",
    "    print(\"----------------------------------\")\n",
    "\n",
    "\n",
    "    print('calculating alpha and beta coeffs to start tridiagonal method...')\n",
    "    deps = forward(eqs)\n",
    "    deps.append(Deps(0, 0, 0))\n",
    "\n",
    "    print(\"----------------------------------\")\n",
    "\n",
    "    print('getting final values...')\n",
    "    vals = backward(num_iters, deps)\n",
    "\n",
    "    print(\"----------------------------------\")\n",
    "\n",
    "    plt.figure(figsize=[12, 5])\n",
    "    x = np.arange(0.0, 1.0, step)\n",
    "    plt.plot(x, vals)\n",
    "    plt.xlabel(\"x\")\n",
    "    plt.ylabel(\"T\")\n",
    "    plt.title(\"temperature distribution\")\n",
    "    plt.grid()\n",
    "    plt.show()\n",
    "main()"
   ]
  },
  {
   "cell_type": "markdown",
   "id": "02d5e767",
   "metadata": {},
   "source": []
  }
 ],
 "metadata": {
  "kernelspec": {
   "display_name": "Python 3.10.6 64-bit",
   "language": "python",
   "name": "python3"
  },
  "language_info": {
   "codemirror_mode": {
    "name": "ipython",
    "version": 3
   },
   "file_extension": ".py",
   "mimetype": "text/x-python",
   "name": "python",
   "nbconvert_exporter": "python",
   "pygments_lexer": "ipython3",
   "version": "3.10.8"
  },
  "vscode": {
   "interpreter": {
    "hash": "e7370f93d1d0cde622a1f8e1c04877d8463912d04d973331ad4851f04de6915a"
   }
  }
 },
 "nbformat": 4,
 "nbformat_minor": 5
}
